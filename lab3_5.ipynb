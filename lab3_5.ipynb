{
 "cells": [
  {
   "cell_type": "code",
   "execution_count": 6,
   "metadata": {},
   "outputs": [
    {
     "name": "stdout",
     "output_type": "stream",
     "text": [
      "   DIGIT  B2  C2  D2  E2  F2  G2  H2\n",
      "0      7   1   0   1   0   0   1   0\n",
      "1      1   0   0   1   0   0   1   0\n",
      "2      4   0   1   1   1   0   1   0\n",
      "3      2   1   1   1   1   1   0   0\n",
      "4      8   0   1   1   1   1   1   1\n",
      "Accuracy : 0.9970059880239521\n"
     ]
    },
    {
     "name": "stderr",
     "output_type": "stream",
     "text": [
      "C:\\Users\\Degrodead\\Anaconda3\\lib\\site-packages\\sklearn\\model_selection\\_split.py:2026: FutureWarning: From version 0.21, test_size will always complement train_size unless both are specified.\n",
      "  FutureWarning)\n"
     ]
    }
   ],
   "source": [
    "import pandas as pd\n",
    "import numpy as np\n",
    "from sklearn.model_selection import train_test_split\n",
    "from sklearn.neighbors import  KNeighborsClassifier\n",
    "from sklearn.metrics import accuracy_score\n",
    "attributes = ['DIGIT', 'B2', 'C2', 'D2', 'E2', 'F2', 'G2', 'H2']\n",
    "df = pd.read_csv('C:/Users/Degrodead/Downloads/digit_2.dat', names=attributes)\n",
    "print(df.head())\n",
    "X = np.array(df.iloc[:, 0:7])\n",
    "y = np.array(df['DIGIT'])\n",
    "X_train, X_test, y_train, y_test = train_test_split(X, y, train_size=1/3, random_state=42)\n",
    "knn = KNeighborsClassifier(n_neighbors=3, n_jobs=-1)\n",
    "knn.fit(X_train, y_train)\n",
    "pred = knn.predict(X_test)\n",
    "print(\"Accuracy : {}\".format(accuracy_score(y_test, pred)))"
   ]
  },
  {
   "cell_type": "code",
   "execution_count": null,
   "metadata": {},
   "outputs": [],
   "source": []
  }
 ],
 "metadata": {
  "kernelspec": {
   "display_name": "Python 3",
   "language": "python",
   "name": "python3"
  },
  "language_info": {
   "codemirror_mode": {
    "name": "ipython",
    "version": 3
   },
   "file_extension": ".py",
   "mimetype": "text/x-python",
   "name": "python",
   "nbconvert_exporter": "python",
   "pygments_lexer": "ipython3",
   "version": "3.7.0"
  }
 },
 "nbformat": 4,
 "nbformat_minor": 2
}
